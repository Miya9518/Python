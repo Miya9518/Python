{
  "nbformat": 4,
  "nbformat_minor": 0,
  "metadata": {
    "colab": {
      "provenance": [],
      "authorship_tag": "ABX9TyNi4Nqg48n9uyvEuCrhK1kB",
      "include_colab_link": true
    },
    "kernelspec": {
      "name": "python3",
      "display_name": "Python 3"
    },
    "language_info": {
      "name": "python"
    }
  },
  "cells": [
    {
      "cell_type": "markdown",
      "metadata": {
        "id": "view-in-github",
        "colab_type": "text"
      },
      "source": [
        "<a href=\"https://colab.research.google.com/github/Miya9518/Python/blob/main/Web_Crawler_udn_news.ipynb\" target=\"_parent\"><img src=\"https://colab.research.google.com/assets/colab-badge.svg\" alt=\"Open In Colab\"/></a>"
      ]
    },
    {
      "cell_type": "code",
      "execution_count": 1,
      "metadata": {
        "colab": {
          "base_uri": "https://localhost:8080/"
        },
        "id": "bPYVUMr7lAno",
        "outputId": "8281e2b5-07b5-4693-a7e8-527121e20caa"
      },
      "outputs": [
        {
          "output_type": "stream",
          "name": "stdout",
          "text": [
            "發布日期: 2025-04-23 20:14\n",
            "瀏覽次數: 7\n",
            "文章標題: 中山男模公關用假身分躲警盤查 因「這原因」被戳破 入監4年4月\n",
            "------------------------------\n",
            "發布日期: 2025-04-23 20:13\n",
            "瀏覽次數: 11\n",
            "文章標題: 花蓮罷免二階連署書份數蓋牌 預計5月2日送選委會\n",
            "------------------------------\n",
            "發布日期: 2025-04-23 20:13\n",
            "瀏覽次數: 11\n",
            "文章標題: 在台共諜超過5000人？ 國安局：沒那麼多人\n",
            "------------------------------\n",
            "發布日期: 2025-04-23 20:11\n",
            "瀏覽次數: 29\n",
            "文章標題: 綠島衛生所24小時急診恐斷線 陳瑩、莊瑞雄籲提早因應\n",
            "------------------------------\n",
            "發布日期: 2025-04-23 20:02\n",
            "瀏覽次數: 456\n",
            "文章標題: 明降雨趨緩！這日起雨區擴大且增強 下周一另波鋒面接力\n",
            "------------------------------\n"
          ]
        }
      ],
      "source": [
        "import requests\n",
        "from bs4 import BeautifulSoup as soup\n",
        "\n",
        "url = \"https://udn.com/news/breaknews/1/\"\n",
        "page = requests.get(url).text\n",
        "web = soup(page, \"html.parser\")\n",
        "\n",
        "items = web.find_all(\"div\", class_=\"story-list__news\")\n",
        "\n",
        "#y.find_all(\"h2\")[0].find_all(\"a\")[0].string\n",
        "\n",
        "for y in items[:5]:\n",
        "    title = y.find_all(\"h2\")[0].find_all(\"a\")[0].string\n",
        "    eye = y.find_all(\"span\")[0].text\n",
        "    date = y.find_all(\"time\")[0].text\n",
        "    print(\"發布日期:\" + \" \" + date)\n",
        "    print(\"瀏覽次數:\" + \" \" + eye)\n",
        "    print(\"文章標題:\" + \" \" + title)\n",
        "    print(\"-\" * 30)"
      ]
    }
  ]
}