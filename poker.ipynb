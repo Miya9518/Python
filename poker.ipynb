{
  "nbformat": 4,
  "nbformat_minor": 0,
  "metadata": {
    "colab": {
      "provenance": [],
      "authorship_tag": "ABX9TyP6pM77PGDFk/UMaPcV9H+i",
      "include_colab_link": true
    },
    "kernelspec": {
      "name": "python3",
      "display_name": "Python 3"
    },
    "language_info": {
      "name": "python"
    }
  },
  "cells": [
    {
      "cell_type": "markdown",
      "metadata": {
        "id": "view-in-github",
        "colab_type": "text"
      },
      "source": [
        "<a href=\"https://colab.research.google.com/github/Miya9518/Python/blob/main/poker.ipynb\" target=\"_parent\"><img src=\"https://colab.research.google.com/assets/colab-badge.svg\" alt=\"Open In Colab\"/></a>"
      ]
    },
    {
      "cell_type": "code",
      "source": [
        "import random\n",
        "def get_shuffled_deck(): #初始化洗好的牌\n",
        "    suits={'♣', '♠', '♦', '♥'}\n",
        "    ranks={'2', '3', '4', '5', '6', '7', '8', '9', '10', 'J', 'Q', 'K', 'A'}\n",
        "    deck=[]\n",
        "    #建立一副52張的撲克牌\n",
        "    for suit in suits:\n",
        "        for rank in ranks:\n",
        "            deck.append(suit+' '+rank)\n",
        "    random.shuffle(deck)\n",
        "    return deck\n",
        "\n",
        "#發一張牌給參與者participant\n",
        "def deal_card(deck,participant):\n",
        "    card=deck.pop()#取一張牌賦值給card，一般是最後一張\n",
        "    participant.append(card)\n",
        "    return card\n",
        "\n",
        "#玩家拿牌： 詢問玩家是否繼續拿牌，如果是，繼續給玩家發牌(呼叫函式deal_ card()) ，並計算玩家牌點compute_total()，如果大於21點，輸出“玩家輸牌!”資訊，並返回。\n",
        "\n",
        "#計算並返回一手牌的點數和\n",
        "def compute_total(hand):\n",
        "    values={'A':1,'2':2,'3':3,'4':4,'5':5,'6':6,'7':7,'8':8,'9':9,'10':10,'J':10,'Q':10,'K':10}\n",
        "    result=0 #初始化點數為0\n",
        "    for card in hand:\n",
        "        result+=values[card[2:]]\n",
        "    return result\n",
        "\n",
        "def print_hand(hand):\n",
        "    for card in hand:\n",
        "        print(card,end=',')\n",
        "    print()\n",
        "\n",
        "def blackjack():\n",
        "    deck=get_shuffled_deck()\n",
        "    house=[]  #莊家的牌\n",
        "    Player=[] #玩家的牌\n",
        "\n",
        "    #依次給玩家和莊家各發兩張牌\n",
        "    for i in range(2):\n",
        "        deal_card(deck,Player)\n",
        "        deal_card(deck,house)\n",
        "    #列印一手牌\n",
        "    print('莊家的牌：',end=' ');print_hand(house)\n",
        "    print('玩家的牌：',end=' ');print_hand(Player)\n",
        "\n",
        "    #詢問玩家是否繼續拿牌，如果是，繼續給玩家發牌\n",
        "    answer=input('是否繼續拿牌（y/n,預設為y）:')\n",
        "    while answer in('','y','Y'):\n",
        "        card=deal_card(deck,Player)\n",
        "        print('玩家拿到的牌為：',end='');print_hand(Player);\n",
        "        #計算牌點\n",
        "        if compute_total(Player)>21:\n",
        "            print('爆掉，玩家輸了！')\n",
        "            return\n",
        "        answer=input('是否繼續拿牌（y/n,預設為y）:')\n",
        "\n",
        "    #莊家（計算人工智慧）按“莊家規則”確定是否拿牌\n",
        "    while compute_total(house)<17:\n",
        "        card=deal_card(deck,house)\n",
        "        print('莊家拿到的牌為：',end='');print_hand(house)\n",
        "        #計算牌點\n",
        "        if compute_total(house)>21:\n",
        "            print('爆掉，莊家輸了！')\n",
        "            return\n",
        "\n",
        "    #分別計算莊家和玩家的點數，比較點數大小，輸出輸贏結果資訊\n",
        "    houseTotal,playerTotal=compute_total(house),compute_total(Player)\n",
        "    if houseTotal>=playerTotal:\n",
        "        print('莊家贏！')\n",
        "    else:\n",
        "        print('玩家贏！')\n",
        "\n",
        "if __name__ == '__main__':\n",
        "    blackjack()"
      ],
      "metadata": {
        "id": "Tr0Cxhk584K3",
        "colab": {
          "base_uri": "https://localhost:8080/"
        },
        "outputId": "45e10434-24ff-47cc-94fd-969b1e049a74"
      },
      "execution_count": null,
      "outputs": [
        {
          "output_type": "stream",
          "name": "stdout",
          "text": [
            "莊家的牌： ♠ 7,♣ 6,\n",
            "玩家的牌： ♥ 4,♥ 6,\n",
            "是否繼續拿牌（y/n,預設為y）:y\n",
            "玩家拿到的牌為：♥ 4,♥ 6,♥ J,\n",
            "是否繼續拿牌（y/n,預設為y）:y\n",
            "玩家拿到的牌為：♥ 4,♥ 6,♥ J,♦ J,\n",
            "爆掉，玩家輸了！\n"
          ]
        }
      ]
    }
  ]
}